{
 "cells": [
  {
   "cell_type": "code",
   "execution_count": 1,
   "metadata": {},
   "outputs": [
    {
     "name": "stderr",
     "output_type": "stream",
     "text": [
      "\u001b[32m\u001b[1m  Activating\u001b[22m\u001b[39m project at `~/Library/CloudStorage/Dropbox/development/FUSE_runs_JG`\n",
      "\u001b[32m\u001b[1m   Resolving\u001b[22m\u001b[39m package versions...\n",
      "\u001b[32m\u001b[1m  No Changes\u001b[22m\u001b[39m to `~/Library/CloudStorage/Dropbox/development/FUSE_runs_JG/Project.toml`\n",
      "\u001b[32m\u001b[1m  No Changes\u001b[22m\u001b[39m to `~/Library/CloudStorage/Dropbox/development/FUSE_runs_JG/Manifest.toml`\n",
      "\u001b[32m\u001b[1m   Resolving\u001b[22m\u001b[39m package versions...\n",
      "\u001b[32m\u001b[1m    Updating\u001b[22m\u001b[39m `~/Library/CloudStorage/Dropbox/development/FUSE_runs_JG/Project.toml`\n",
      "  \u001b[90m[91a5bcdd] \u001b[39m\u001b[92m+ Plots v1.40.9\u001b[39m\n",
      "\u001b[32m\u001b[1m  No Changes\u001b[22m\u001b[39m to `~/Library/CloudStorage/Dropbox/development/FUSE_runs_JG/Manifest.toml`\n"
     ]
    }
   ],
   "source": [
    "using Pkg\n",
    "using BenchmarkTools\n",
    "using Revise\n",
    "Pkg.activate(\".\")\n",
    "\n",
    "Pkg.add(\"FUSE\")\n",
    "Pkg.add(\"Plots\")\n",
    "using Plots # for plotting\n",
    "using FUSE # this will also import IMAS in the current namespace\n"
   ]
  },
  {
   "cell_type": "code",
   "execution_count": 3,
   "metadata": {},
   "outputs": [
    {
     "name": "stderr",
     "output_type": "stream",
     "text": [
      "\u001b[36m\u001b[1mactors\u001b[22m\u001b[39m\u001b[0m\u001b[1m: \u001b[22m\u001b[0mEquilibrium\n",
      "\u001b[36m\u001b[1mactors\u001b[22m\u001b[39m\u001b[0m\u001b[1m: \u001b[22m\u001b[0m TEQUILA\n",
      "\u001b[36m\u001b[1mactors\u001b[22m\u001b[39m\u001b[0m\u001b[1m: \u001b[22m\u001b[0mHCD\n",
      "\u001b[36m\u001b[1mactors\u001b[22m\u001b[39m\u001b[0m\u001b[1m: \u001b[22m\u001b[0m SimpleEC\n",
      "\u001b[36m\u001b[1mactors\u001b[22m\u001b[39m\u001b[0m\u001b[1m: \u001b[22m\u001b[0m SimpleIC\n",
      "\u001b[36m\u001b[1mactors\u001b[22m\u001b[39m\u001b[0m\u001b[1m: \u001b[22m\u001b[0m SimpleLH\n",
      "\u001b[36m\u001b[1mactors\u001b[22m\u001b[39m\u001b[0m\u001b[1m: \u001b[22m\u001b[0m SimpleNB\n",
      "\u001b[36m\u001b[1mactors\u001b[22m\u001b[39m\u001b[0m\u001b[1m: \u001b[22m\u001b[0m SimplePellet\n",
      "\u001b[36m\u001b[1mactors\u001b[22m\u001b[39m\u001b[0m\u001b[1m: \u001b[22m\u001b[0mCurrent\n",
      "\u001b[36m\u001b[1mactors\u001b[22m\u001b[39m\u001b[0m\u001b[1m: \u001b[22m\u001b[0m SteadyStateCurrent\n",
      "\u001b[36m\u001b[1mactors\u001b[22m\u001b[39m\u001b[0m\u001b[1m: \u001b[22m\u001b[0mCXbuild\n",
      "\u001b[36m\u001b[1mactors\u001b[22m\u001b[39m\u001b[0m\u001b[1m: \u001b[22m\u001b[0mPassiveStructures\n"
     ]
    }
   ],
   "source": [
    "ini, act = FUSE.case_parameters(:KDEMO);\n",
    "ini.equilibrium.B0 = 7.8\n",
    "ini.equilibrium.R0 = 6.5;\n",
    "act.ActorCoreTransport.model = :FluxMatcher;\n",
    "dd = IMAS.dd() # an empty dd\n",
    "FUSE.init(dd, ini, act);\n",
    "@checkin :init dd ini act"
   ]
  }
 ],
 "metadata": {
  "kernelspec": {
   "display_name": "Julia 1.10.3",
   "language": "julia",
   "name": "julia-1.10"
  },
  "language_info": {
   "file_extension": ".jl",
   "mimetype": "application/julia",
   "name": "julia",
   "version": "1.10.3"
  }
 },
 "nbformat": 4,
 "nbformat_minor": 2
}
